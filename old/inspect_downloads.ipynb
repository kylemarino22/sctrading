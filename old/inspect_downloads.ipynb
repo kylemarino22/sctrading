{
 "cells": [
  {
   "cell_type": "code",
   "execution_count": null,
   "id": "d28a646d",
   "metadata": {},
   "outputs": [],
   "source": []
  }
 ],
 "metadata": {
  "kernelspec": {
   "display_name": "alan-test-env",
   "language": "python",
   "name": "python3"
  },
  "language_info": {
   "name": "python",
   "version": "3.12.9"
  }
 },
 "nbformat": 4,
 "nbformat_minor": 5
}
